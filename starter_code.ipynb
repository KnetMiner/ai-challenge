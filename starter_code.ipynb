{
 "cells": [
  {
   "cell_type": "markdown",
   "metadata": {},
   "source": [
    "#### The prompt that we used to get the output from 3 different GPT models. It will help provided you additional context on how the CSVs were generated and what their respective columns refer."
   ]
  },
  {
   "cell_type": "code",
   "execution_count": 4,
   "metadata": {},
   "outputs": [],
   "source": [
    "GPT_PROMPT = '''Identify and extract named entities for plant genes and their associations with traits from the input text. Focus exclusively on plant genes and traits, excluding entities from other species. Map identified traits to Trait Ontology (TO) Terms using the provided TO knowledge base. Identify the gene-trait relationship describe it in one word which can be a verb; and provide evidence along with the experimental method used to establish this relationship. If the gene-trait relationship is not mentioned explicitly in the text, no output is needed.\n",
    "\n",
    "# Steps\n",
    "\n",
    "1. **Identification**: \n",
    "   - Extract plant gene names and associated traits from the input text.\n",
    "   \n",
    "2. **Trait Mapping**:\n",
    "   - Use the provided TO knowledge base to map each identified trait to the most specific TO Term using the 'name', 'definition', 'comment', and 'synonym' fields.\n",
    "\n",
    "3. **Relationship Classification**:\n",
    "   - Analyze the input text to determine the type of gene-trait relationship and describe it in on word which should be a verb\n",
    "   - Extract a brief piece of text or inference as evidence for the relationship.\n",
    "   - Identify the experimental method used, such as QTL, GWAS, gene knock-out, gene silencing, sequence analysis or gene overexpression.\n",
    "\n",
    "4. **Data Compilation**:\n",
    "   - Organize extracted entities and relevant information according to the output format.\n",
    "\n",
    "# Output Format\n",
    "\n",
    "```json\n",
    "[\n",
    "    {\n",
    "        \"gene\": \"<name of the gene>\",\n",
    "        \"species\": \"<specify the latin species name the gene belongs to>\",\n",
    "        \"trait_name\": \"<exact name of trait from the TO knowledge base>\",\n",
    "        \"trait_id\": \"<corresponding TO id>\",\n",
    "        \"relation_type\": \"<verb describing the gene-trait relation>\",\n",
    "        \"evidence\": \"<brief evidence sentence from the input text supporting the relationship>\",\n",
    "        \"method\": \"<experimental method that established the relationship, e.g., QTL, GWAS, gene knock-out, gene silencing, sequence analysis, gene overexpression>\"\n",
    "    }\n",
    "]\n",
    "```\n",
    "'''"
   ]
  },
  {
   "cell_type": "markdown",
   "metadata": {},
   "source": [
    "## Storing Trait Ontology Details in the Vector DB"
   ]
  },
  {
   "cell_type": "code",
   "execution_count": null,
   "metadata": {},
   "outputs": [],
   "source": [
    "# !pip install chromadb\n",
    "\n",
    "import chromadb"
   ]
  },
  {
   "cell_type": "code",
   "execution_count": 2,
   "metadata": {},
   "outputs": [],
   "source": [
    "# Function to extract the 'id' and 'name' from a block of text\n",
    "def extract_id_name(block):\n",
    "    lines = block.splitlines()\n",
    "    id_value = \"\"\n",
    "    name_value = \"\"\n",
    "    for line in lines:\n",
    "        if line.startswith(\"id:\"):\n",
    "            id_value = line.split(\"id:\")[1].strip()\n",
    "        elif line.startswith(\"name:\"):\n",
    "            name_value = line.split(\"name:\")[1].strip().replace(\" \", \"_\")\n",
    "    return id_value, name_value\n",
    "\n",
    "# Read the entire content of the input file\n",
    "input_file = 'trait_ontology_details.txt'\n",
    "with open(input_file, 'r') as file:\n",
    "    content = file.read()\n",
    "\n",
    "# Split the content by double newlines and ensure last block is captured\n",
    "blocks = content.strip().split(\"\\n\\n\")\n",
    "\n",
    "trait_ids = {}\n",
    "\n",
    "for block in blocks:\n",
    "    if block.strip():\n",
    "        term_id, term_name = extract_id_name(block)\n",
    "        trait_ids[term_id] = block"
   ]
  },
  {
   "cell_type": "markdown",
   "metadata": {},
   "source": [
    "## Using the freely availble embedding model from Hugging Face"
   ]
  },
  {
   "cell_type": "code",
   "execution_count": null,
   "metadata": {},
   "outputs": [],
   "source": [
    "import chromadb.utils.embedding_functions as embedding_functions\n",
    "\n",
    "# Follow the link to know more - https://docs.trychroma.com/integrations/hugging-face\n",
    "\n",
    "huggingface_ef = embedding_functions.HuggingFaceEmbeddingFunction(\n",
    "    api_key=\"YOUR_API_KEY\",\n",
    "    model_name=\"sentence-transformers/all-MiniLM-L6-v2\"\n",
    ")"
   ]
  },
  {
   "cell_type": "code",
   "execution_count": null,
   "metadata": {},
   "outputs": [],
   "source": [
    "client = chromadb.PersistentClient(path='.')"
   ]
  },
  {
   "cell_type": "code",
   "execution_count": null,
   "metadata": {},
   "outputs": [],
   "source": [
    "collection_trait_details = client.create_collection(\n",
    "        name=\"trait_details\", \n",
    "        embedding_function=huggingface_ef,\n",
    "        metadata={\"hnsw:space\": \"cosine\"} \n",
    "    )"
   ]
  },
  {
   "cell_type": "code",
   "execution_count": null,
   "metadata": {},
   "outputs": [],
   "source": [
    "collection_trait_details.add(\n",
    "    documents=list(trait_ids.values()),\n",
    "    ids=list(trait_ids.keys())\n",
    ")"
   ]
  },
  {
   "cell_type": "code",
   "execution_count": 8,
   "metadata": {},
   "outputs": [],
   "source": [
    "# Add your code from here onwards --- "
   ]
  }
 ],
 "metadata": {
  "kernelspec": {
   "display_name": "Python 3",
   "language": "python",
   "name": "python3"
  },
  "language_info": {
   "codemirror_mode": {
    "name": "ipython",
    "version": 3
   },
   "file_extension": ".py",
   "mimetype": "text/x-python",
   "name": "python",
   "nbconvert_exporter": "python",
   "pygments_lexer": "ipython3",
   "version": "3.11.9"
  }
 },
 "nbformat": 4,
 "nbformat_minor": 2
}
